{
 "cells": [
  {
   "cell_type": "code",
   "execution_count": null,
   "metadata": {},
   "outputs": [],
   "source": [
    "import pandas as pd\n",
    "import plotly.express as px\n",
    "# import plotly.figure_factory as ff\n",
    "import plotly.graph_objects as go\n",
    "from plotly.subplots import make_subplots\n",
    "pd.set_option('display.max_rows',None)"
   ]
  },
  {
   "cell_type": "code",
   "execution_count": null,
   "metadata": {},
   "outputs": [],
   "source": [
    "def loadCleanData(path:str):\n",
    "    # read data\n",
    "    data = pd.read_csv(path)\n",
    "    \n",
    "    # drop columns\n",
    "    data = data[['Market', 'TrainNumber', 'DepartureDateTime', 'ArrivalDateTime','Origin', 'Destination', 'Revenue', 'Bookings','CommercialClass']]\n",
    "    \n",
    "    # change date format\n",
    "    data['DepartureDateTime'] = pd.to_datetime(data['DepartureDateTime'] )\n",
    "    data['ArrivalDateTime'] = pd.to_datetime(data['ArrivalDateTime'] )\n",
    "\n",
    "    # index data\n",
    "    cleanData = data.groupby(by=['Market', 'TrainNumber', 'DepartureDateTime', 'CommercialClass'])[['Revenue','Bookings']].sum()\n",
    "    cleanData = cleanData.reset_index()\n",
    "\n",
    "    return cleanData, data\n",
    "\n",
    "\n",
    "def rule_80_20(cleanData: pd.DataFrame, attribute:str, percent = 80.0):\n",
    "\n",
    "    # Distribution of Market by [Demand]\n",
    "    marketFor = cleanData.groupby(by=['Market'])[attribute].sum().sort_values(ascending=False)\n",
    "    marketFor = marketFor.reset_index()\n",
    "\n",
    "    marketFor['Porcent'] = (marketFor[attribute]/marketFor[attribute].sum())*100\n",
    "    marketFor['AcumulSum'] = marketFor['Porcent'].cumsum()\n",
    "\n",
    "    marketFor_80 = marketFor[marketFor['AcumulSum'] <= percent]\n",
    "    numberMarketFor_80 = marketFor_80['Market'].nunique()\n",
    "\n",
    "    return marketFor_80, numberMarketFor_80"
   ]
  },
  {
   "cell_type": "code",
   "execution_count": null,
   "metadata": {},
   "outputs": [],
   "source": [
    "cleanData, data = loadCleanData('/home/wilmer/Documentos/Codes/WORKSHOP/data/anonymizedHistoricalData.csv')"
   ]
  },
  {
   "cell_type": "code",
   "execution_count": null,
   "metadata": {},
   "outputs": [],
   "source": [
    "# Adding temporality\n",
    "cleanData['DayWeek'] = cleanData['DepartureDateTime'].dt.day_name()\n",
    "cleanData['WeekYear'] = cleanData['DepartureDateTime'].dt.isocalendar().week\n",
    "\n",
    "# Number of Markets\n",
    "numMarket = cleanData['Market'].nunique()\n",
    "\n",
    "marketForDemand, numberMarketForDemand = rule_80_20(cleanData, 'Bookings')\n",
    "marketForRevenue, numberMarketForRevenue = rule_80_20(cleanData, 'Revenue')"
   ]
  },
  {
   "cell_type": "code",
   "execution_count": null,
   "metadata": {},
   "outputs": [],
   "source": [
    "# Add histogram data\n",
    "df = cleanData.groupby(by=['WeekYear'])[['Bookings']].sum()\n",
    "\n",
    "# x1 = cleanData[cleanData['Market']=='S46-S31']['Revenue']\n",
    "# x2 = cleanData[cleanData['Market']=='S31-S46']['Revenue']\n",
    "\n",
    "# # fig = go.Figure()\n",
    "# fig = make_subplots(rows=1, cols=2, subplot_titles=(\"Histograma 1\", \"Histograma 2\"))\n",
    "\n",
    "# fig.add_trace(go.Histogram(x=x1, name='Market S46-S31'), row=1, col=1)\n",
    "# fig.add_trace(go.Histogram(x=x2, name='Market S46-S31'), row=1, col=2)\n",
    "\n",
    "# # Actualizar el diseño del gráfico\n",
    "# fig.update_layout(title='Histograma de Revenue para Market S46-S31',\n",
    "#                   xaxis_title='Revenue',\n",
    "#                   yaxis_title='Count')\n",
    "# # Ajustar los límites del eje x para agregar un zoom\n",
    "# fig.update_xaxes(range=[0, 5000], row=1, col=1)\n",
    "# fig.update_xaxes(range=[0, 5000], row=1, col=2)\n",
    "# # Mostrar el gráfico\n",
    "# fig.show()"
   ]
  },
  {
   "cell_type": "code",
   "execution_count": null,
   "metadata": {},
   "outputs": [],
   "source": [
    "\n",
    "df = cleanData[cleanData['Market']=='S46-S31'].sort_values(by='WeekYear',ascending=True)\n",
    "yy = df.groupby(by='WeekYear')['Revenue'].sum()\n",
    "yy = yy.reset_index()\n",
    "\n",
    "fig = go.Figure(go.Scatter(\n",
    "    x = yy['WeekYear'],\n",
    "    y = yy['Revenue']\n",
    "))\n",
    "\n",
    "fig.update_layout(\n",
    "    xaxis = dict(\n",
    "        tickmode = 'linear',\n",
    "        tick0 = 0.5,\n",
    "        dtick = 0.75\n",
    "    )\n",
    ")\n",
    "fig.show()\n"
   ]
  },
  {
   "cell_type": "code",
   "execution_count": null,
   "metadata": {},
   "outputs": [],
   "source": [
    "df = df.groupby(by='DepartureDateTime')['Revenue'].sum()\n",
    "df = df.reset_index()\n",
    "\n",
    "fig = px.histogram(df, x=\"DepartureDateTime\", y=\"Revenue\", histfunc=\"avg\", title=\"Histogram on Date Axes\")\n",
    "fig.update_traces(xbins_size=\"M1\")\n",
    "fig.update_xaxes(showgrid=True, ticklabelmode=\"period\", dtick=\"M1\", tickformat=\"%b\\n%Y\")\n",
    "fig.update_layout(bargap=0.1)\n",
    "fig.add_trace(go.Scatter(mode=\"markers\", x=df[\"DepartureDateTime\"], y=df[\"Revenue\"], name=\"daily\"))\n",
    "fig.show()"
   ]
  }
 ],
 "metadata": {
  "kernelspec": {
   "display_name": "env",
   "language": "python",
   "name": "python3"
  },
  "language_info": {
   "codemirror_mode": {
    "name": "ipython",
    "version": 3
   },
   "file_extension": ".py",
   "mimetype": "text/x-python",
   "name": "python",
   "nbconvert_exporter": "python",
   "pygments_lexer": "ipython3",
   "version": "3.9.19"
  }
 },
 "nbformat": 4,
 "nbformat_minor": 2
}
