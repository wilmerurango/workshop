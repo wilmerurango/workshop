{
 "cells": [
  {
   "cell_type": "code",
   "execution_count": null,
   "metadata": {},
   "outputs": [],
   "source": [
    "import pandas as pd\n",
    "\n",
    "pd.set_option('display.max_columns', None)\n",
    "pd.set_option('display.max_rows', None)"
   ]
  },
  {
   "cell_type": "code",
   "execution_count": null,
   "metadata": {},
   "outputs": [],
   "source": [
    "# {start} chamar dados\n",
    "data = pd.read_csv('/home/wilmer/Documentos/Codes/WORKSHOP/data/historicalData.csv')\n",
    "data_rote = pd.read_csv('/home/wilmer/Documentos/Codes/WORKSHOP/data/TrainRoutes.csv')\n",
    "# {end} chamar dados"
   ]
  },
  {
   "cell_type": "code",
   "execution_count": null,
   "metadata": {},
   "outputs": [],
   "source": [
    "data['DepartureDate'] = data['DepartureDateTime'].str[:10]\n",
    "data['DepartureTime'] = data['DepartureDateTime'].str[10:]\n",
    "\n",
    "data_rote = data_rote.groupby(by=['Service','Num'])['Route'].unique()\n",
    "data_rote = data_rote.reset_index()"
   ]
  },
  {
   "cell_type": "code",
   "execution_count": null,
   "metadata": {},
   "outputs": [],
   "source": [
    "# {START} ANONIMIZAR OS DADOS\n",
    "# --data da instancia\n",
    "replace_train_number = {val: indx + 1  for indx,val in enumerate(sorted(data['TrainNumber'].unique()))}\n",
    "data['TrainNumber'] = data['TrainNumber'].map(replace_train_number, na_action='ignore')\n",
    "\n",
    "replace_comer_class = {'Y': 'Z-1','YA': 'Z-2','YB': 'Z-3','YC': 'Z-4','YD': 'Z-5','YE': 'Z-6','YF': 'Z-7','YG': 'Z-8','YH': 'Z-9','JY': 'P-1','JA': 'P-2','JB': 'P-3','JC': 'P-4','JD': 'P-5','JE': 'P-6','JF': 'P-7','JG': 'P-8','JH': 'P-9'}\n",
    "data['CommercialClass'] = data['CommercialClass'].map(replace_comer_class, na_action='ignore')\n",
    "\n",
    "origin = data['Origin'].unique().tolist()\n",
    "destin = data['Destination'].unique().tolist()\n",
    "stations = sorted(destin + [i for i in origin if i not in destin])\n",
    "\n",
    "replace_stations = {val:'S'+str(pos+1) for pos, val in enumerate(stations)}\n",
    "data['Origin'] = data['Origin'].map(replace_stations, na_action='ignore')\n",
    "data['Destination'] = data['Destination'].map(replace_stations, na_action='ignore')\n",
    "\n",
    "data['Market'] = data['Origin'].astype('str') + '-' + data['Destination'].astype('str')\n",
    "\n",
    "data[['Vagon','Class']] = data['CommercialClass'].str.split('-', expand=True)\n",
    "\n",
    "# --data das rotas\n",
    "def reem_station(fila, replace_stations):#\n",
    "    fila = fila[0]\n",
    "    fila = fila.split('-')\n",
    "    fila = [replace_stations[i] for i in fila]\n",
    "    return fila\n",
    "\n",
    "data_rote['Route'] = data_rote['Route'].apply(reem_station, replace_stations=replace_stations)\n",
    "data_rote['Num'] = data_rote['Num'].map(replace_train_number, na_action='ignore')\n",
    "\n",
    "# {END} ANONIMIZAR OS DADOS"
   ]
  },
  {
   "cell_type": "code",
   "execution_count": null,
   "metadata": {},
   "outputs": [],
   "source": [
    "# data[(data['TrainNumber']==71) & (data['DepartureDate']=='2023-10-26')]['Capacity'].unique() #& (data['Market']=='S8-S5')"
   ]
  },
  {
   "cell_type": "code",
   "execution_count": null,
   "metadata": {},
   "outputs": [],
   "source": [
    "# {START} ORGANIZAR INSTANCIA\n",
    "instance_dem = data.groupby(by=['Origin','Destination','Vagon', 'Class', 'DBD', 'TrainNumber', 'DepartureDate'])['Bookings'].sum()\n",
    "instance_dem = instance_dem.reset_index()\n",
    "\n",
    "instance_preco = data.groupby(by=['Origin','Destination','Vagon', 'Class', 'TrainNumber', 'DepartureDate'])['Revenue'].max()\n",
    "instance_preco = instance_preco.reset_index()\n",
    "# {END} ORGANIZAR INSTANCIA"
   ]
  },
  {
   "cell_type": "code",
   "execution_count": null,
   "metadata": {},
   "outputs": [],
   "source": [
    "num_trem = 71\n",
    "data_depature = '2023-10-26'\n",
    "\n",
    "demanda = instance_dem[(instance_dem['TrainNumber']==num_trem) & (instance_dem['DepartureDate']==data_depature)]\n",
    "demanda.drop(columns=['TrainNumber','DepartureDate'], inplace=True)\n",
    "\n",
    "preco = instance_preco[(instance_preco['TrainNumber']==num_trem) & (instance_preco['DepartureDate']==data_depature)]\n",
    "preco.drop(columns=['TrainNumber','DepartureDate'], inplace=True)\n",
    "# preco = preco.sort_values(by=['Origin', 'Destination', 'Vagon', 'Revenue'], ascending=[True, True, True, False])\n",
    "\n",
    "rota = data_rote[data_rote['Num']==num_trem]"
   ]
  },
  {
   "cell_type": "code",
   "execution_count": null,
   "metadata": {},
   "outputs": [],
   "source": [
    "demanda.to_csv('/home/wilmer/Documentos/Codes/tesis/instancias/instancia3/demanda.csv', index=False)\n",
    "preco.to_csv('/home/wilmer/Documentos/Codes/tesis/instancias/instancia3/preco.csv', index=False)\n",
    "rota.to_csv('/home/wilmer/Documentos/Codes/tesis/instancias/instancia3/rota.csv', index=False)"
   ]
  },
  {
   "cell_type": "code",
   "execution_count": null,
   "metadata": {},
   "outputs": [],
   "source": [
    "# {START} OBTER AS ROTAS COM MAIS TRECHOS\n",
    "instance = data.groupby(by=['Market','Vagon', 'Class', 'DBD', 'TrainNumber', 'DepartureDate'])['Bookings'].sum()\n",
    "instance = instance.reset_index()\n",
    "long_rote = instance.groupby(by=['TrainNumber','DepartureDate'])['Market'].nunique()\n",
    "long_rote = long_rote.reset_index()\n",
    "long_rote = long_rote.sort_values('Market', ascending=False)\n",
    "long_rote.head(30)\n",
    "# {END} OBTER AS ROTAS COM MAIS TRECHOS\n",
    "\n",
    "\n",
    "\n",
    "# # {START} GRAFICAR UMA ROTA\n",
    "# import networkx as nx\n",
    "# import matplotlib.pyplot as plt\n",
    "\n",
    "# # para obter a rota com mais trechos\n",
    "# filtro = instance[(instance['TrainNumber']==68) & (instance['DepartureDate']=='2023-11-21')]['Market'].unique()\n",
    "\n",
    "\n",
    "# lista_tuplas  = [(str(i).split('-')[0], str(i).split('-')[1])  for i in filtro]\n",
    "\n",
    "# # Criar um grafo dirigido\n",
    "# grafo = nx.DiGraph()\n",
    "\n",
    "# # Adicionar bordas ao grafo desde as tuplas\n",
    "# grafo.add_edges_from(lista_tuplas)\n",
    "\n",
    "# # Desenhar o grafo\n",
    "# plt.figure(figsize=(25, 13))\n",
    "# fig = nx.draw(grafo, with_labels=True, node_color='lightblue', node_size=800, font_size=12, font_weight='bold')\n",
    "\n",
    "# # apresentar o grafico\n",
    "# plt.show()\n",
    "\n",
    "# # {END} GRAFICAR UMA ROTA"
   ]
  }
 ],
 "metadata": {
  "kernelspec": {
   "display_name": "Python 3",
   "language": "python",
   "name": "python3"
  },
  "language_info": {
   "codemirror_mode": {
    "name": "ipython",
    "version": 3
   },
   "file_extension": ".py",
   "mimetype": "text/x-python",
   "name": "python",
   "nbconvert_exporter": "python",
   "pygments_lexer": "ipython3",
   "version": "3.10.13"
  }
 },
 "nbformat": 4,
 "nbformat_minor": 2
}
