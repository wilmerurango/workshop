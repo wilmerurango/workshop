{
 "cells": [
  {
   "cell_type": "code",
   "execution_count": 1,
   "metadata": {},
   "outputs": [],
   "source": [
    "import pandas as pd\n",
    "# import matplotlib.pyplot as plt\n",
    "\n",
    "pd.set_option('display.max_columns', None)\n",
    "pd.set_option('display.max_rows', None)"
   ]
  },
  {
   "cell_type": "code",
   "execution_count": 2,
   "metadata": {},
   "outputs": [],
   "source": [
    "data = pd.read_csv('C:/Jupyter/WORKSHOP/historicalData.csv')"
   ]
  },
  {
   "cell_type": "code",
   "execution_count": null,
   "metadata": {},
   "outputs": [],
   "source": [
    "# {start} chamar dados\n",
    "dataHist = pd.read_csv('/home/wilmer/Documentos/Mestrado/WORKSHOP/data/historicalData.csv')\n",
    "data1 = pd.read_excel('/home/wilmer/Documentos/Mestrado/WORKSHOP/data/NER88_18Dec2024.xlsx')\n",
    "# {end} chamar dados\n",
    "\n",
    "# limpar os dados\n",
    "data = data1.melt(id_vars=['Commercial Class'], var_name='CommercialClass', value_name='Bookings')\n",
    "data.columns = ['Market' ,'CommercialClass' ,'Bookings']\n",
    "\n",
    "replace_comer_class = {'Y': 'Z-1','YA': 'Z-2','YB': 'Z-3','YC': 'Z-4','YD': 'Z-5','YE': 'Z-6','YF': 'Z-7','YG': 'Z-8','YH': 'Z-9','JY': 'P-1','JA': 'P-2','JB': 'P-3','JC': 'P-4','JD': 'P-5','JE': 'P-6','JF': 'P-7','JG': 'P-8','JH': 'P-9'}\n",
    "\n",
    "dataHist['CommercialClass'] = dataHist['CommercialClass'].map(replace_comer_class, na_action='ignore')\n",
    "dataHist[['Vagon','Class']] = dataHist['CommercialClass'].str.split('-',expand=True)\n",
    "\n",
    "data['CommercialClass'] = data['CommercialClass'].map(replace_comer_class, na_action='ignore')\n",
    "data[['Vagon','Class']] = data['CommercialClass'].str.split('-',expand=True)\n",
    "data = data.drop(columns='CommercialClass')\n",
    "data = data.dropna()\n",
    "\n",
    "# achar os precos de cada trecho por clase y vagon\n",
    "precos_dataHist = dataHist.groupby(by=['Market','Vagon', 'Class'])['Revenue'].max()\n",
    "precos_dataHist = precos_dataHist.reset_index()\n",
    "\n",
    "\n",
    "demanda = data.copy()\n",
    "demanda['DBD'] = 1\n",
    "demanda = demanda[['Market','Vagon','Class','DBD','Bookings']]\n",
    "\n",
    "preco = pd.merge(demanda[['Market', 'Vagon', 'Class']],precos_dataHist, on=['Market', 'Vagon', 'Class'], how='left')"
   ]
  },
  {
   "cell_type": "code",
   "execution_count": 3,
   "metadata": {},
   "outputs": [],
   "source": [
    "replace_train_number = {val: indx + 1  for indx,val in enumerate(sorted(data['TrainNumber'].unique()))}\n",
    "data['TrainNumber'] = data['TrainNumber'].map(replace_train_number, na_action='ignore')\n",
    "\n",
    "replace_comer_class = {'Y': 'Z-1','YA': 'Z-2','YB': 'Z-3','YC': 'Z-4','YD': 'Z-5','YE': 'Z-6','YF': 'Z-7','YG': 'Z-8','YH': 'Z-9','JY': 'P-1','JA': 'P-2','JB': 'P-3','JC': 'P-4','JD': 'P-5','JE': 'P-6','JF': 'P-7','JG': 'P-8','JH': 'P-9'}\n",
    "data['CommercialClass'] = data['CommercialClass'].map(replace_comer_class, na_action='ignore')\n",
    "\n",
    "origin = data['Origin'].unique().tolist()\n",
    "destin = data['Destination'].unique().tolist()\n",
    "stations = sorted(destin + [i for i in origin if i not in destin])\n",
    "\n",
    "replace_stations = {val:'S'+str(pos+1) for pos, val in enumerate(stations)}\n",
    "data['Origin'] = data['Origin'].map(replace_stations, na_action='ignore')\n",
    "data['Destination'] = data['Destination'].map(replace_stations, na_action='ignore')\n",
    "\n",
    "data['Market'] = data['Origin'].astype('str') + '-' + data['Destination'].astype('str')"
   ]
  },
  {
   "cell_type": "code",
   "execution_count": 5,
   "metadata": {},
   "outputs": [],
   "source": [
    "data[['Vagon','Class']] = data['CommercialClass'].str.split('-', expand=True)"
   ]
  },
  {
   "cell_type": "code",
   "execution_count": null,
   "metadata": {},
   "outputs": [],
   "source": [
    "data.groupby(by=['Origin','Destination','Vagon', 'Class', 'DBD', 'TrainNumber', 'DepartureDateTime']).max()"
   ]
  },
  {
   "cell_type": "code",
   "execution_count": 10,
   "metadata": {},
   "outputs": [],
   "source": [
    "# trainnumber,  departurdate, Market, DBD, CommercialClass\n",
    "\n",
    "# import networkx as nx\n",
    "# import matplotlib.pyplot as plt\n",
    "# # import mpldatacursor\n",
    "\n",
    "# filtro_rota = data[(data['TrainNumber']==174) & (data['DepartureDateTime']=='2023-09-15 10:22:00+00:00')] \n",
    "\n",
    "# adjacent_stations = filtro_rota[(filtro_rota['NbLegs']==12)]['Market'].unique().tolist()\n",
    "# lista_tuplas  = [(i.split('-')[0], i.split('-')[1])  for i in adjacent_stations]\n",
    "\n",
    "# # Crear un nuevo grafo no dirigido\n",
    "# grafo = nx.DiGraph()\n",
    "\n",
    "# # Agregar bordes al grafo desde las tuplas\n",
    "# grafo.add_edges_from(lista_tuplas)\n",
    "\n",
    "# # Dibujar el grafo\n",
    "# plt.figure(figsize=(25, 13))\n",
    "# fig = nx.draw(grafo, with_labels=True, node_color='lightblue', node_size=800, font_size=12, font_weight='bold')\n",
    "\n",
    "# # Imprimir el resultado en lugar de mostrarlo\n",
    "# plt.show()\n",
    "\n",
    "\n",
    "# # calcular rutas dado un origen un destino y la lisa de todos los nodos adjacentes\n",
    "# # Encontrar la ruta entre dos nodos (1 y 5, por ejemplo) usando BFS\n",
    "# todas_las_rutas = list(nx.all_simple_paths(grafo, source='27', target='22'))\n",
    "\n",
    "# # Imprimir todas las rutas encontradas\n",
    "# for ruta in todas_las_rutas:\n",
    "#     print(\"Ruta:\", ruta)\n",
    "\n",
    "# # ruta_bfs = nx.shortest_path(grafo, source='NCR', target='NRO')\n",
    "# # print(\"Ruta BFS:\", ruta_bfs)"
   ]
  }
 ],
 "metadata": {
  "kernelspec": {
   "display_name": "Python 3",
   "language": "python",
   "name": "python3"
  },
  "language_info": {
   "codemirror_mode": {
    "name": "ipython",
    "version": 3
   },
   "file_extension": ".py",
   "mimetype": "text/x-python",
   "name": "python",
   "nbconvert_exporter": "python",
   "pygments_lexer": "ipython3",
   "version": "3.9.12"
  }
 },
 "nbformat": 4,
 "nbformat_minor": 2
}
